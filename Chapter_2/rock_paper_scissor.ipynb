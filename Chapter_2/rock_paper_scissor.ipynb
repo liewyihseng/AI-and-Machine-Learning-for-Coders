{
  "cells": [
    {
      "cell_type": "code",
      "execution_count": null,
      "id": "d5735be5",
      "metadata": {
        "id": "d5735be5"
      },
      "outputs": [],
      "source": [
        "import zipfile\n",
        "import urllib.request\n",
        "import tensorflow as tf\n",
        "import tensorflow_datasets as tfds\n",
        "from tensorflow import keras\n",
        "import keras\n",
        "from keras.preprocessing.image import ImageDataGenerator\n",
        "\n",
        "training_url = \"https://storage.googleapis.com/download.tensorflow.org/data/rps.zip\"\n",
        "training_file_name = \"rock-paper-scissors.zip\"\n",
        "training_dir = \"rock-paper-scissors/training/\"\n",
        "urllib.request.urlretrieve(training_url, training_file_name)\n",
        "zip_ref = zipfile.ZipFile(training_file_name, 'r')\n",
        "zip_ref.extractall(training_dir)\n",
        "zip_ref.close()"
      ]
    },
    {
      "cell_type": "code",
      "execution_count": null,
      "id": "dced3d29",
      "metadata": {
        "colab": {
          "base_uri": "https://localhost:8080/"
        },
        "id": "dced3d29",
        "outputId": "05b24ecc-39bf-4052-cdda-c6fbe1153059"
      },
      "outputs": [
        {
          "output_type": "stream",
          "name": "stdout",
          "text": [
            "Found 2520 images belonging to 1 classes.\n"
          ]
        }
      ],
      "source": [
        "training_datagen = ImageDataGenerator(\n",
        "    rescale=1./255,\n",
        "    rotation_range=40,\n",
        "    width_shift_range=0.2,\n",
        "    height_shift_range=0.2,\n",
        "    shear_range=0.2,\n",
        "    zoom_range=0.2,\n",
        "    horizontal_flip=True,\n",
        "    fill_mode='nearest'\n",
        ")\n",
        "train_generator = training_datagen.flow_from_directory(training_dir, target_size=(150, 150), class_mode = 'categorical')"
      ]
    },
    {
      "cell_type": "code",
      "execution_count": null,
      "id": "cc38fd2d",
      "metadata": {
        "id": "cc38fd2d"
      },
      "outputs": [],
      "source": [
        "model = tf.keras.models.Sequential([\n",
        "    # Note the input shape is the desired size of the image:\n",
        "    # 150 x 150 with 3 bytes color\n",
        "    # This is the fist convolution\n",
        "    tf.keras.layers.Conv2D(64, (3,3), activation='relu', input_shape = (150, 150, 3)),\n",
        "    tf.keras.layers.MaxPooling2D(2,2),\n",
        "    # 2nd convolution\n",
        "    tf.keras.layers.Conv2D(64, (3, 3), activation='relu'),\n",
        "    tf.keras.layers.MaxPooling2D(2,2),\n",
        "    # 3rd convlution\n",
        "    tf.keras.layers.Conv2D(128, (3, 3), activation='relu'),\n",
        "    tf.keras.layers.MaxPooling2D(2,2),\n",
        "    # 4th convolution\n",
        "    tf.keras.layers.Conv2D(128, (3,3), activation='relu'),\n",
        "    tf.keras.layers.MaxPooling2D(2,2),\n",
        "    #Flatten the results to feed into a DNN\n",
        "    tf.keras.layers.Flatten(),\n",
        "    # 512 neuron hidden layer\n",
        "    tf.keras.layers.Dense(512, activation='relu'),\n",
        "    tf.keras.layers.Dense(3, activation='softmax')\n",
        "])"
      ]
    },
    {
      "cell_type": "code",
      "execution_count": null,
      "id": "e0b5387e",
      "metadata": {
        "colab": {
          "base_uri": "https://localhost:8080/"
        },
        "id": "e0b5387e",
        "outputId": "a8a61be6-4549-4170-e9ae-c5aa973e3e9e"
      },
      "outputs": [
        {
          "output_type": "stream",
          "name": "stdout",
          "text": [
            "Model: \"sequential\"\n",
            "_________________________________________________________________\n",
            " Layer (type)                Output Shape              Param #   \n",
            "=================================================================\n",
            " conv2d (Conv2D)             (None, 148, 148, 64)      1792      \n",
            "                                                                 \n",
            " max_pooling2d (MaxPooling2D  (None, 74, 74, 64)       0         \n",
            " )                                                               \n",
            "                                                                 \n",
            " conv2d_1 (Conv2D)           (None, 72, 72, 64)        36928     \n",
            "                                                                 \n",
            " max_pooling2d_1 (MaxPooling  (None, 36, 36, 64)       0         \n",
            " 2D)                                                             \n",
            "                                                                 \n",
            " conv2d_2 (Conv2D)           (None, 34, 34, 128)       73856     \n",
            "                                                                 \n",
            " max_pooling2d_2 (MaxPooling  (None, 17, 17, 128)      0         \n",
            " 2D)                                                             \n",
            "                                                                 \n",
            " conv2d_3 (Conv2D)           (None, 15, 15, 128)       147584    \n",
            "                                                                 \n",
            " max_pooling2d_3 (MaxPooling  (None, 7, 7, 128)        0         \n",
            " 2D)                                                             \n",
            "                                                                 \n",
            " flatten (Flatten)           (None, 6272)              0         \n",
            "                                                                 \n",
            " dense (Dense)               (None, 512)               3211776   \n",
            "                                                                 \n",
            " dense_1 (Dense)             (None, 3)                 1539      \n",
            "                                                                 \n",
            "=================================================================\n",
            "Total params: 3,473,475\n",
            "Trainable params: 3,473,475\n",
            "Non-trainable params: 0\n",
            "_________________________________________________________________\n"
          ]
        }
      ],
      "source": [
        "model.summary()"
      ]
    },
    {
      "cell_type": "code",
      "execution_count": null,
      "id": "986f8abb",
      "metadata": {
        "id": "986f8abb"
      },
      "outputs": [],
      "source": [
        "model.compile(loss='categorical_crossentropy', optimizer='rmsprop',metrics=['accuracy'])"
      ]
    },
    {
      "cell_type": "code",
      "execution_count": null,
      "id": "213c1b60",
      "metadata": {
        "id": "213c1b60"
      },
      "outputs": [],
      "source": [
        "validation_url = \"https://storage.googleapis.com/download.tensorflow.org/data/rps-test-set.zip\"\n",
        "validation_file_name = \"validation-rock-paper-scissors.zip\"\n",
        "validation_dir = \"rock-paper-scissors/validation/\"\n",
        "urllib.request.urlretrieve(validation_url, validation_file_name)\n",
        "zip_ref = zipfile.ZipFile(validation_file_name, 'r')\n",
        "zip_ref.extractall(validation_dir)\n",
        "zip_ref.close()"
      ]
    },
    {
      "cell_type": "code",
      "execution_count": null,
      "id": "eeab7b34",
      "metadata": {
        "colab": {
          "base_uri": "https://localhost:8080/"
        },
        "id": "eeab7b34",
        "outputId": "023e29f1-9a8a-4b27-9f65-72626a8809a2"
      },
      "outputs": [
        {
          "output_type": "stream",
          "name": "stdout",
          "text": [
            "Found 372 images belonging to 1 classes.\n"
          ]
        }
      ],
      "source": [
        "validation_datagen = ImageDataGenerator(\n",
        "    rescale=1./255,\n",
        "    rotation_range=40,\n",
        "    width_shift_range=0.2,\n",
        "    height_shift_range=0.2,\n",
        "    shear_range=0.2,\n",
        "    zoom_range=0.2,\n",
        "    horizontal_flip=True,\n",
        "    fill_mode='nearest'\n",
        ")\n",
        "validation_generator = validation_datagen.flow_from_directory(validation_dir, target_size=(150, 150), class_mode = 'categorical')"
      ]
    },
    {
      "cell_type": "code",
      "execution_count": null,
      "id": "206c0746",
      "metadata": {
        "colab": {
          "base_uri": "https://localhost:8080/"
        },
        "id": "206c0746",
        "outputId": "1b9d5173-f7c3-42b4-c480-f9a6b305d64b"
      },
      "outputs": [
        {
          "output_type": "stream",
          "name": "stdout",
          "text": [
            "Epoch 1/25\n",
            "79/79 [==============================] - 239s 3s/step - loss: 63127440.0000 - accuracy: 0.3278 - val_loss: 380333152.0000 - val_accuracy: 0.0000e+00\n",
            "Epoch 2/25\n",
            "79/79 [==============================] - 254s 3s/step - loss: 1569637376.0000 - accuracy: 0.3302 - val_loss: 6052837888.0000 - val_accuracy: 1.0000\n",
            "Epoch 3/25\n",
            "79/79 [==============================] - 248s 3s/step - loss: 10133360640.0000 - accuracy: 0.3397 - val_loss: 18784874496.0000 - val_accuracy: 0.0000e+00\n",
            "Epoch 4/25\n",
            "79/79 [==============================] - 252s 3s/step - loss: 37448097792.0000 - accuracy: 0.3270 - val_loss: 78192771072.0000 - val_accuracy: 1.0000\n",
            "Epoch 5/25\n",
            "79/79 [==============================] - 253s 3s/step - loss: 104423718912.0000 - accuracy: 0.3397 - val_loss: 163050160128.0000 - val_accuracy: 0.0000e+00\n",
            "Epoch 6/25\n",
            "79/79 [==============================] - 236s 3s/step - loss: 241333567488.0000 - accuracy: 0.3302 - val_loss: 254999134208.0000 - val_accuracy: 0.0000e+00\n",
            "Epoch 7/25\n",
            "79/79 [==============================] - 244s 3s/step - loss: 487628505088.0000 - accuracy: 0.3302 - val_loss: 837156470784.0000 - val_accuracy: 1.0000\n",
            "Epoch 8/25\n",
            "79/79 [==============================] - 247s 3s/step - loss: 907585912832.0000 - accuracy: 0.3397 - val_loss: 1232763355136.0000 - val_accuracy: 0.0000e+00\n",
            "Epoch 9/25\n",
            "79/79 [==============================] - 247s 3s/step - loss: 1565734207488.0000 - accuracy: 0.3270 - val_loss: 1281526726656.0000 - val_accuracy: 0.0000e+00\n",
            "Epoch 10/25\n",
            "79/79 [==============================] - 248s 3s/step - loss: 2540755746816.0000 - accuracy: 0.3302 - val_loss: 4254544691200.0000 - val_accuracy: 1.0000\n",
            "Epoch 11/25\n",
            "79/79 [==============================] - 239s 3s/step - loss: 3985714184192.0000 - accuracy: 0.3397 - val_loss: 5816734187520.0000 - val_accuracy: 0.0000e+00\n",
            "Epoch 12/25\n",
            "79/79 [==============================] - 252s 3s/step - loss: 5981949919232.0000 - accuracy: 0.3270 - val_loss: 3015829094400.0000 - val_accuracy: 1.0000\n",
            "Epoch 13/25\n",
            "79/79 [==============================] - 248s 3s/step - loss: 8656209838080.0000 - accuracy: 0.3397 - val_loss: 9876787953664.0000 - val_accuracy: 0.0000e+00\n",
            "Epoch 14/25\n",
            "79/79 [==============================] - 247s 3s/step - loss: 12262097027072.0000 - accuracy: 0.3270 - val_loss: 19256955633664.0000 - val_accuracy: 0.0000e+00\n",
            "Epoch 15/25\n",
            "79/79 [==============================] - 236s 3s/step - loss: 17057841152000.0000 - accuracy: 0.3302 - val_loss: 16770147549184.0000 - val_accuracy: 1.0000\n",
            "Epoch 16/25\n",
            "79/79 [==============================] - 237s 3s/step - loss: 23002961936384.0000 - accuracy: 0.3429 - val_loss: 23290494058496.0000 - val_accuracy: 0.0000e+00\n",
            "Epoch 17/25\n",
            "79/79 [==============================] - 256s 3s/step - loss: 30518932406272.0000 - accuracy: 0.3302 - val_loss: 45419002331136.0000 - val_accuracy: 0.0000e+00\n",
            "Epoch 18/25\n",
            "79/79 [==============================] - 247s 3s/step - loss: 40397657079808.0000 - accuracy: 0.3270 - val_loss: 41756087287808.0000 - val_accuracy: 1.0000\n",
            "Epoch 19/25\n",
            "79/79 [==============================] - 250s 3s/step - loss: 51891421577216.0000 - accuracy: 0.3429 - val_loss: 48254557356032.0000 - val_accuracy: 0.0000e+00\n",
            "Epoch 20/25\n",
            "79/79 [==============================] - 248s 3s/step - loss: 65745547427840.0000 - accuracy: 0.3302 - val_loss: 107281656053760.0000 - val_accuracy: 0.0000e+00\n",
            "Epoch 21/25\n",
            "79/79 [==============================] - 248s 3s/step - loss: 83794853888000.0000 - accuracy: 0.3270 - val_loss: 86086780977152.0000 - val_accuracy: 1.0000\n",
            "Epoch 22/25\n",
            "79/79 [==============================] - 254s 3s/step - loss: 104092701556736.0000 - accuracy: 0.3429 - val_loss: 83995660386304.0000 - val_accuracy: 0.0000e+00\n",
            "Epoch 23/25\n",
            "79/79 [==============================] - 237s 3s/step - loss: 128209244913664.0000 - accuracy: 0.3302 - val_loss: 205900732170240.0000 - val_accuracy: 0.0000e+00\n",
            "Epoch 24/25\n",
            "79/79 [==============================] - 246s 3s/step - loss: 158347944787968.0000 - accuracy: 0.3270 - val_loss: 156141589889024.0000 - val_accuracy: 1.0000\n",
            "Epoch 25/25\n",
            "79/79 [==============================] - 246s 3s/step - loss: 191168524582912.0000 - accuracy: 0.3429 - val_loss: 142923911921664.0000 - val_accuracy: 0.0000e+00\n"
          ]
        }
      ],
      "source": [
        "history = model.fit(train_generator, epochs=25, validation_data = validation_generator, verbose = 1)"
      ]
    },
    {
      "cell_type": "code",
      "execution_count": null,
      "id": "b656ec73",
      "metadata": {
        "colab": {
          "base_uri": "https://localhost:8080/",
          "height": 298
        },
        "id": "b656ec73",
        "outputId": "84007b57-7d6b-423e-a553-64736b068e35"
      },
      "outputs": [
        {
          "output_type": "display_data",
          "data": {
            "text/plain": [
              "<IPython.core.display.HTML object>"
            ],
            "text/html": [
              "\n",
              "     <input type=\"file\" id=\"files-d96443a4-db9c-4f32-8a6c-5639cdd8522a\" name=\"files[]\" multiple disabled\n",
              "        style=\"border:none\" />\n",
              "     <output id=\"result-d96443a4-db9c-4f32-8a6c-5639cdd8522a\">\n",
              "      Upload widget is only available when the cell has been executed in the\n",
              "      current browser session. Please rerun this cell to enable.\n",
              "      </output>\n",
              "      <script>// Copyright 2017 Google LLC\n",
              "//\n",
              "// Licensed under the Apache License, Version 2.0 (the \"License\");\n",
              "// you may not use this file except in compliance with the License.\n",
              "// You may obtain a copy of the License at\n",
              "//\n",
              "//      http://www.apache.org/licenses/LICENSE-2.0\n",
              "//\n",
              "// Unless required by applicable law or agreed to in writing, software\n",
              "// distributed under the License is distributed on an \"AS IS\" BASIS,\n",
              "// WITHOUT WARRANTIES OR CONDITIONS OF ANY KIND, either express or implied.\n",
              "// See the License for the specific language governing permissions and\n",
              "// limitations under the License.\n",
              "\n",
              "/**\n",
              " * @fileoverview Helpers for google.colab Python module.\n",
              " */\n",
              "(function(scope) {\n",
              "function span(text, styleAttributes = {}) {\n",
              "  const element = document.createElement('span');\n",
              "  element.textContent = text;\n",
              "  for (const key of Object.keys(styleAttributes)) {\n",
              "    element.style[key] = styleAttributes[key];\n",
              "  }\n",
              "  return element;\n",
              "}\n",
              "\n",
              "// Max number of bytes which will be uploaded at a time.\n",
              "const MAX_PAYLOAD_SIZE = 100 * 1024;\n",
              "\n",
              "function _uploadFiles(inputId, outputId) {\n",
              "  const steps = uploadFilesStep(inputId, outputId);\n",
              "  const outputElement = document.getElementById(outputId);\n",
              "  // Cache steps on the outputElement to make it available for the next call\n",
              "  // to uploadFilesContinue from Python.\n",
              "  outputElement.steps = steps;\n",
              "\n",
              "  return _uploadFilesContinue(outputId);\n",
              "}\n",
              "\n",
              "// This is roughly an async generator (not supported in the browser yet),\n",
              "// where there are multiple asynchronous steps and the Python side is going\n",
              "// to poll for completion of each step.\n",
              "// This uses a Promise to block the python side on completion of each step,\n",
              "// then passes the result of the previous step as the input to the next step.\n",
              "function _uploadFilesContinue(outputId) {\n",
              "  const outputElement = document.getElementById(outputId);\n",
              "  const steps = outputElement.steps;\n",
              "\n",
              "  const next = steps.next(outputElement.lastPromiseValue);\n",
              "  return Promise.resolve(next.value.promise).then((value) => {\n",
              "    // Cache the last promise value to make it available to the next\n",
              "    // step of the generator.\n",
              "    outputElement.lastPromiseValue = value;\n",
              "    return next.value.response;\n",
              "  });\n",
              "}\n",
              "\n",
              "/**\n",
              " * Generator function which is called between each async step of the upload\n",
              " * process.\n",
              " * @param {string} inputId Element ID of the input file picker element.\n",
              " * @param {string} outputId Element ID of the output display.\n",
              " * @return {!Iterable<!Object>} Iterable of next steps.\n",
              " */\n",
              "function* uploadFilesStep(inputId, outputId) {\n",
              "  const inputElement = document.getElementById(inputId);\n",
              "  inputElement.disabled = false;\n",
              "\n",
              "  const outputElement = document.getElementById(outputId);\n",
              "  outputElement.innerHTML = '';\n",
              "\n",
              "  const pickedPromise = new Promise((resolve) => {\n",
              "    inputElement.addEventListener('change', (e) => {\n",
              "      resolve(e.target.files);\n",
              "    });\n",
              "  });\n",
              "\n",
              "  const cancel = document.createElement('button');\n",
              "  inputElement.parentElement.appendChild(cancel);\n",
              "  cancel.textContent = 'Cancel upload';\n",
              "  const cancelPromise = new Promise((resolve) => {\n",
              "    cancel.onclick = () => {\n",
              "      resolve(null);\n",
              "    };\n",
              "  });\n",
              "\n",
              "  // Wait for the user to pick the files.\n",
              "  const files = yield {\n",
              "    promise: Promise.race([pickedPromise, cancelPromise]),\n",
              "    response: {\n",
              "      action: 'starting',\n",
              "    }\n",
              "  };\n",
              "\n",
              "  cancel.remove();\n",
              "\n",
              "  // Disable the input element since further picks are not allowed.\n",
              "  inputElement.disabled = true;\n",
              "\n",
              "  if (!files) {\n",
              "    return {\n",
              "      response: {\n",
              "        action: 'complete',\n",
              "      }\n",
              "    };\n",
              "  }\n",
              "\n",
              "  for (const file of files) {\n",
              "    const li = document.createElement('li');\n",
              "    li.append(span(file.name, {fontWeight: 'bold'}));\n",
              "    li.append(span(\n",
              "        `(${file.type || 'n/a'}) - ${file.size} bytes, ` +\n",
              "        `last modified: ${\n",
              "            file.lastModifiedDate ? file.lastModifiedDate.toLocaleDateString() :\n",
              "                                    'n/a'} - `));\n",
              "    const percent = span('0% done');\n",
              "    li.appendChild(percent);\n",
              "\n",
              "    outputElement.appendChild(li);\n",
              "\n",
              "    const fileDataPromise = new Promise((resolve) => {\n",
              "      const reader = new FileReader();\n",
              "      reader.onload = (e) => {\n",
              "        resolve(e.target.result);\n",
              "      };\n",
              "      reader.readAsArrayBuffer(file);\n",
              "    });\n",
              "    // Wait for the data to be ready.\n",
              "    let fileData = yield {\n",
              "      promise: fileDataPromise,\n",
              "      response: {\n",
              "        action: 'continue',\n",
              "      }\n",
              "    };\n",
              "\n",
              "    // Use a chunked sending to avoid message size limits. See b/62115660.\n",
              "    let position = 0;\n",
              "    do {\n",
              "      const length = Math.min(fileData.byteLength - position, MAX_PAYLOAD_SIZE);\n",
              "      const chunk = new Uint8Array(fileData, position, length);\n",
              "      position += length;\n",
              "\n",
              "      const base64 = btoa(String.fromCharCode.apply(null, chunk));\n",
              "      yield {\n",
              "        response: {\n",
              "          action: 'append',\n",
              "          file: file.name,\n",
              "          data: base64,\n",
              "        },\n",
              "      };\n",
              "\n",
              "      let percentDone = fileData.byteLength === 0 ?\n",
              "          100 :\n",
              "          Math.round((position / fileData.byteLength) * 100);\n",
              "      percent.textContent = `${percentDone}% done`;\n",
              "\n",
              "    } while (position < fileData.byteLength);\n",
              "  }\n",
              "\n",
              "  // All done.\n",
              "  yield {\n",
              "    response: {\n",
              "      action: 'complete',\n",
              "    }\n",
              "  };\n",
              "}\n",
              "\n",
              "scope.google = scope.google || {};\n",
              "scope.google.colab = scope.google.colab || {};\n",
              "scope.google.colab._files = {\n",
              "  _uploadFiles,\n",
              "  _uploadFilesContinue,\n",
              "};\n",
              "})(self);\n",
              "</script> "
            ]
          },
          "metadata": {}
        },
        {
          "output_type": "stream",
          "name": "stdout",
          "text": [
            "Saving paper.jpeg to paper (2).jpeg\n",
            "Saving rock.jpg to rock (2).jpg\n",
            "Saving scissors.jpg to scissors (2).jpg\n",
            "1/1 [==============================] - 0s 169ms/step\n",
            "paper.jpeg\n",
            "[[0. 0. 1.]]\n",
            "1/1 [==============================] - 0s 40ms/step\n",
            "rock.jpg\n",
            "[[0. 0. 1.]]\n",
            "1/1 [==============================] - 0s 66ms/step\n",
            "scissors.jpg\n",
            "[[0. 0. 1.]]\n"
          ]
        }
      ],
      "source": [
        "import numpy as np\n",
        "from google.colab import files\n",
        "from keras.preprocessing import image\n",
        "\n",
        "uploaded = files.upload()\n",
        "\n",
        "for fn in uploaded.keys():\n",
        "  #predicting images\n",
        "  path = fn\n",
        "  img = tf.keras.utils.load_img(path, target_size=(150, 150))\n",
        "  x = tf.keras.utils.img_to_array(img)\n",
        "  x = np.expand_dims(x, axis=0)\n",
        "\n",
        "  images = np.vstack([x])\n",
        "  classes = model.predict(images, batch_size=10)\n",
        "  print(fn)\n",
        "  print(classes)\n"
      ]
    },
    {
      "cell_type": "code",
      "source": [],
      "metadata": {
        "id": "iQ9jhfmmzguE"
      },
      "id": "iQ9jhfmmzguE",
      "execution_count": null,
      "outputs": []
    }
  ],
  "metadata": {
    "kernelspec": {
      "display_name": "Python 3 (ipykernel)",
      "language": "python",
      "name": "python3"
    },
    "language_info": {
      "codemirror_mode": {
        "name": "ipython",
        "version": 3
      },
      "file_extension": ".py",
      "mimetype": "text/x-python",
      "name": "python",
      "nbconvert_exporter": "python",
      "pygments_lexer": "ipython3",
      "version": "3.10.11"
    },
    "colab": {
      "provenance": []
    }
  },
  "nbformat": 4,
  "nbformat_minor": 5
}
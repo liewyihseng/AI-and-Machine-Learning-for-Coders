{
  "nbformat": 4,
  "nbformat_minor": 0,
  "metadata": {
    "colab": {
      "provenance": []
    },
    "kernelspec": {
      "name": "python3",
      "display_name": "Python 3"
    },
    "language_info": {
      "name": "python"
    }
  },
  "cells": [
    {
      "cell_type": "code",
      "execution_count": 10,
      "metadata": {
        "id": "_pTW9uEwy0h3"
      },
      "outputs": [],
      "source": [
        "import tensorflow as tf\n",
        "import tensorflow_datasets as tfds\n",
        "import tensorflow_addons as tfa"
      ]
    },
    {
      "cell_type": "code",
      "source": [
        "# Model Definition Start\n",
        "model = tf.keras.models.Sequential([\n",
        "    tf.keras.layers.Conv2D(16, (3,3), activation = 'relu', input_shape=(300,300, 3)),\n",
        "    tf.keras.layers.MaxPooling2D(2,2),\n",
        "    tf.keras.layers.Conv2D(32, (3,3), activation = 'relu'),\n",
        "    tf.keras.layers.MaxPooling2D(2,2),\n",
        "    tf.keras.layers.Conv2D(64, (3,3), activation = 'relu'),\n",
        "    tf.keras.layers.MaxPooling2D(2,2),\n",
        "    tf.keras.layers.Conv2D(64, (3,3), activation = 'relu'),\n",
        "    tf.keras.layers.MaxPooling2D(2,2),\n",
        "    tf.keras.layers.Conv2D(64, (3,3), activation = 'relu'),\n",
        "    tf.keras.layers.MaxPooling2D(2,2),\n",
        "    tf.keras.layers.Flatten(),\n",
        "    tf.keras.layers.Dense(512, activation='relu'),\n",
        "    tf.keras.layers.Dense(1, activation = 'sigmoid')\n",
        "])\n",
        "model.compile(optimizer='Adam', loss='binary_crossentropy',metrics=['accuracy'])\n",
        "# Model Definition End"
      ],
      "metadata": {
        "id": "40E1OcHHz8rM"
      },
      "execution_count": 11,
      "outputs": []
    },
    {
      "cell_type": "code",
      "source": [
        "# Extract Phase Start\n",
        "data = tfds.load('horses_or_humans', split='train', as_supervised=True)\n",
        "val_data = tfds.load('horses_or_humans', split='test', as_supervised=True)\n",
        "# Extract Phase End"
      ],
      "metadata": {
        "id": "xxF-mCel08WP"
      },
      "execution_count": 13,
      "outputs": []
    },
    {
      "cell_type": "code",
      "source": [
        "# Transform Phase Start\n",
        "def augmentimages(image, label):\n",
        "  image = tf.cast(image, tf.float32)\n",
        "  image = (image/255)\n",
        "  image = tf.image.random_flip_left_right(image)\n",
        "  image = tfa.image.rotate(image, 40, interpolation ='NEAREST')\n",
        "  return image, label\n",
        "\n",
        "train = data.map(augmentimages)\n",
        "train_batches = train.shuffle(100).batch(32)\n",
        "validation_batches = val_data.batch(32)\n",
        "# Tranform Phase End"
      ],
      "metadata": {
        "id": "dOO1ZHp71OZ1"
      },
      "execution_count": 14,
      "outputs": []
    },
    {
      "cell_type": "code",
      "source": [
        "# Load Phase Start\n",
        "history = model.fit(train_batches, epochs = 10, validation_data= validation_batches, validation_steps = 1)\n",
        "#Load Phase End"
      ],
      "metadata": {
        "colab": {
          "base_uri": "https://localhost:8080/"
        },
        "id": "71urxWX42TOn",
        "outputId": "a22ecbdc-63ec-49fe-bb90-b5c204d1f2e6"
      },
      "execution_count": 15,
      "outputs": [
        {
          "output_type": "stream",
          "name": "stdout",
          "text": [
            "Epoch 1/10\n",
            "33/33 [==============================] - 133s 4s/step - loss: 0.4697 - accuracy: 0.7897 - val_loss: 260.5878 - val_accuracy: 0.6875\n",
            "Epoch 2/10\n",
            "33/33 [==============================] - 125s 4s/step - loss: 0.1738 - accuracy: 0.9221 - val_loss: 310.1053 - val_accuracy: 0.5938\n",
            "Epoch 3/10\n",
            "33/33 [==============================] - 136s 4s/step - loss: 0.1799 - accuracy: 0.9260 - val_loss: 281.5588 - val_accuracy: 0.5938\n",
            "Epoch 4/10\n",
            "33/33 [==============================] - 126s 4s/step - loss: 0.0476 - accuracy: 0.9825 - val_loss: 416.3639 - val_accuracy: 0.6250\n",
            "Epoch 5/10\n",
            "33/33 [==============================] - 127s 4s/step - loss: 0.0208 - accuracy: 0.9951 - val_loss: 619.5648 - val_accuracy: 0.7188\n",
            "Epoch 6/10\n",
            "33/33 [==============================] - 127s 4s/step - loss: 0.0165 - accuracy: 0.9951 - val_loss: 649.2780 - val_accuracy: 0.5938\n",
            "Epoch 7/10\n",
            "33/33 [==============================] - 125s 4s/step - loss: 0.0058 - accuracy: 0.9981 - val_loss: 676.9387 - val_accuracy: 0.6250\n",
            "Epoch 8/10\n",
            "33/33 [==============================] - 135s 4s/step - loss: 0.0669 - accuracy: 0.9747 - val_loss: 317.1529 - val_accuracy: 0.4688\n",
            "Epoch 9/10\n",
            "33/33 [==============================] - 128s 4s/step - loss: 0.0399 - accuracy: 0.9883 - val_loss: 289.2659 - val_accuracy: 0.5938\n",
            "Epoch 10/10\n",
            "33/33 [==============================] - 124s 4s/step - loss: 0.0228 - accuracy: 0.9922 - val_loss: 593.2061 - val_accuracy: 0.5938\n"
          ]
        }
      ]
    },
    {
      "cell_type": "code",
      "source": [],
      "metadata": {
        "id": "hhQs_Fm72hmq"
      },
      "execution_count": null,
      "outputs": []
    }
  ]
}